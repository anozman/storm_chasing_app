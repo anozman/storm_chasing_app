{
 "cells": [
  {
   "cell_type": "markdown",
   "metadata": {},
   "source": [
    "# Data Visualization\n",
    "\n",
    "This notebook is just going to be used for visualizing the radar data so that we can see how the data is structured for further use"
   ]
  },
  {
   "cell_type": "code",
   "execution_count": 1,
   "metadata": {},
   "outputs": [
    {
     "name": "stdout",
     "output_type": "stream",
     "text": [
      "\n",
      "## You are using the Python ARM Radar Toolkit (Py-ART), an open source\n",
      "## library for working with weather radar data. Py-ART is partly\n",
      "## supported by the U.S. Department of Energy as part of the Atmospheric\n",
      "## Radiation Measurement (ARM) Climate Research Facility, an Office of\n",
      "## Science user facility.\n",
      "##\n",
      "## If you use this software to prepare a publication, please cite:\n",
      "##\n",
      "##     JJ Helmus and SM Collis, JORS 2016, doi: 10.5334/jors.119\n",
      "\n"
     ]
    }
   ],
   "source": [
    "## Imports\n",
    "\n",
    "import bz2\n",
    "import sys, os\n",
    "import pyart\n",
    "import matplotlib.pyplot as plt\n",
    "from pyart.graph import RadarDisplay\n"
   ]
  },
  {
   "cell_type": "code",
   "execution_count": 4,
   "metadata": {},
   "outputs": [
    {
     "name": "stdout",
     "output_type": "stream",
     "text": [
      "Radar data loaded successfully.\n",
      "<pyart.core.radar.Radar object at 0x7f7075d13b50>\n",
      "Radar fields: dict_keys(['differential_phase', 'reflectivity', 'velocity', 'spectrum_width', 'cross_correlation_ratio', 'differential_reflectivity', 'clutter_filter_power_removed'])\n",
      "Radar elevation angles: [0.48614502 0.35980225 0.42022705 ... 0.83496094 0.83496094 0.83496094]\n"
     ]
    }
   ],
   "source": [
    "# Defining the data file and opening the data\n",
    "# Define the path to the data file\n",
    "root_dir ='/mnt/d/VS-workspace/personal_projects/storm_chasing_app/'\n",
    "data_path = 'data/'\n",
    "file = \"KTLX_latest_scan.bin\"  # Replace with your file name\n",
    "file_path = f\"{root_dir}{data_path}{file}\"\n",
    "file_path = os.path.join(root_dir, data_path, file)\n",
    "\n",
    "# Try to read the file using Py-ART\n",
    "try:\n",
    "    radar = pyart.io.read_nexrad_archive(file_path)\n",
    "    print(\"Radar data loaded successfully.\")\n",
    "    print(radar)  # Print radar object details\n",
    "\n",
    "    # Example: Access radar attributes\n",
    "    print(\"Radar fields:\", radar.fields.keys())\n",
    "    print(\"Radar elevation angles:\", radar.elevation['data'])\n",
    "except Exception as e:\n",
    "    print(f\"Error reading radar file: {e}\")\n"
   ]
  },
  {
   "cell_type": "code",
   "execution_count": 11,
   "metadata": {},
   "outputs": [
    {
     "data": {
      "text/plain": [
       "pyart.core.radar.Radar"
      ]
     },
     "execution_count": 11,
     "metadata": {},
     "output_type": "execute_result"
    }
   ],
   "source": [
    "type(radar)"
   ]
  },
  {
   "cell_type": "code",
   "execution_count": null,
   "metadata": {},
   "outputs": [],
   "source": []
  }
 ],
 "metadata": {
  "kernelspec": {
   "display_name": "storm_chasing_app",
   "language": "python",
   "name": "python3"
  },
  "language_info": {
   "codemirror_mode": {
    "name": "ipython",
    "version": 3
   },
   "file_extension": ".py",
   "mimetype": "text/x-python",
   "name": "python",
   "nbconvert_exporter": "python",
   "pygments_lexer": "ipython3",
   "version": "3.10.13"
  }
 },
 "nbformat": 4,
 "nbformat_minor": 2
}
